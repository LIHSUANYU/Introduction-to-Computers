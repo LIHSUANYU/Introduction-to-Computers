{
  "nbformat": 4,
  "nbformat_minor": 0,
  "metadata": {
    "colab": {
      "provenance": [],
      "authorship_tag": "ABX9TyPVoiyjTtBM2dF3nS2EFuY5",
      "include_colab_link": true
    },
    "kernelspec": {
      "name": "python3",
      "display_name": "Python 3"
    },
    "language_info": {
      "name": "python"
    }
  },
  "cells": [
    {
      "cell_type": "markdown",
      "metadata": {
        "id": "view-in-github",
        "colab_type": "text"
      },
      "source": [
        "<a href=\"https://colab.research.google.com/github/LIHSUANYU/Introduction-to-Computers/blob/main/0515.ipynb\" target=\"_parent\"><img src=\"https://colab.research.google.com/assets/colab-badge.svg\" alt=\"Open In Colab\"/></a>"
      ]
    },
    {
      "cell_type": "code",
      "execution_count": 1,
      "metadata": {
        "colab": {
          "base_uri": "https://localhost:8080/"
        },
        "id": "Wzkdz0nIQ0NR",
        "outputId": "ff9fd09a-a9e6-4dc5-a98d-8c4c1b0b7d05"
      },
      "outputs": [
        {
          "output_type": "stream",
          "name": "stdout",
          "text": [
            "0515\n"
          ]
        }
      ],
      "source": [
        "print(\"0515\")"
      ]
    },
    {
      "cell_type": "code",
      "source": [
        "print(\"今天會下雨嗎?\",end = \"\")\n",
        "rain = input()\n",
        "if(rain == \"Y\" or rain == \"y\"):\n",
        "  print(\"出門記得帶傘!\")\n",
        "elif(rain == \"N\" or rain == \"n\"):\n",
        "  print(\"今天不會下雨\")\n",
        "else:\n",
        "  print(\"請重新輸入\")"
      ],
      "metadata": {
        "colab": {
          "base_uri": "https://localhost:8080/"
        },
        "id": "htIFU20GRLYG",
        "outputId": "4aaf48f3-7721-46cb-de89-5637375c9c97"
      },
      "execution_count": 43,
      "outputs": [
        {
          "output_type": "stream",
          "name": "stdout",
          "text": [
            "今天會下雨嗎?Y\n",
            "出門記得帶傘!\n"
          ]
        }
      ]
    },
    {
      "cell_type": "code",
      "source": [
        "體溫 = float(input(\"請輸入體溫\"))\n",
        "if 體溫 >= 37.5:\n",
        "  print(\"體溫過高!\")\n",
        "elif 體溫 >=37.0:\n",
        "  print(\"體溫略高!\")\n",
        "elif 體溫 >=34.0:\n",
        "  print(\"體溫正常!\")\n",
        "else:\n",
        "  print(\"體溫異常，請重新量測!\")"
      ],
      "metadata": {
        "colab": {
          "base_uri": "https://localhost:8080/"
        },
        "id": "f8HkyOg1RLbG",
        "outputId": "bed4c5c5-af03-4c49-c2f6-1b213820c935"
      },
      "execution_count": 23,
      "outputs": [
        {
          "output_type": "stream",
          "name": "stdout",
          "text": [
            "請輸入體溫38.0\n",
            "體溫過高!\n"
          ]
        }
      ]
    },
    {
      "cell_type": "code",
      "source": [
        "score = int(input(\"請輸入成績\"))\n",
        "if score >= 90:\n",
        "  print(\"A\")\n",
        "elif score >=80:\n",
        "  print(\"B\")\n",
        "elif score >=70:\n",
        "  print(\"C\")\n",
        "elif score >=60:\n",
        "  print(\"D\")\n",
        "else:\n",
        "  print(\"E\")"
      ],
      "metadata": {
        "colab": {
          "base_uri": "https://localhost:8080/"
        },
        "id": "lJYY0NOfRLfF",
        "outputId": "9e1bfbba-2245-4c30-a952-cbb4e6dc240e"
      },
      "execution_count": 22,
      "outputs": [
        {
          "output_type": "stream",
          "name": "stdout",
          "text": [
            "請輸入成績90\n",
            "A\n"
          ]
        }
      ]
    },
    {
      "cell_type": "code",
      "source": [
        "score = int(input(\"請輸入成績\"))\n",
        "if score >= 90:\n",
        "  print(\"A\")\n",
        "elif score >=80:\n",
        "  print(\"B\")\n",
        "elif score >=70:\n",
        "  print(\"C\")\n",
        "elif score >=60:\n",
        "  print(\"D\")\n",
        "else:\n",
        "  print(\"E\")"
      ],
      "metadata": {
        "colab": {
          "base_uri": "https://localhost:8080/"
        },
        "id": "uLam0G3kdgtn",
        "outputId": "b5423a5a-9838-462c-82bc-26fe725f3746"
      },
      "execution_count": 44,
      "outputs": [
        {
          "output_type": "stream",
          "name": "stdout",
          "text": [
            "請輸入成績80\n",
            "B\n"
          ]
        }
      ]
    },
    {
      "cell_type": "code",
      "source": [
        "score = int(input(\"請輸入成績\"))\n",
        "if score >= 90:\n",
        "  print(\"A\")\n",
        "elif score >=80:\n",
        "  print(\"B\")\n",
        "elif score >=70:\n",
        "  print(\"C\")\n",
        "elif score >=60:\n",
        "  print(\"D\")\n",
        "else:\n",
        "  print(\"E\")"
      ],
      "metadata": {
        "colab": {
          "base_uri": "https://localhost:8080/"
        },
        "id": "zjfBU_w6dhgx",
        "outputId": "7ebb52d8-9f79-40af-e48f-82dc8a990784"
      },
      "execution_count": 45,
      "outputs": [
        {
          "output_type": "stream",
          "name": "stdout",
          "text": [
            "請輸入成績50\n",
            "E\n"
          ]
        }
      ]
    },
    {
      "cell_type": "code",
      "source": [
        "月份 = str(input(\"請輸入月份\"))\n",
        "if 月份 == \"3\" or 月份 == \"4\" or 月份 == \"5\":\n",
        "  print(月份+\"月是春天!\")\n",
        "elif 月份 == \"6\" or 月份 == \"7\" or 月份 == \"8\":\n",
        "  print(月份+\"月是夏天!\")\n",
        "elif 月份 == \"9\" or 月份 == \"10\" or 月份 == \"11\":\n",
        "  print(月份+\"月是秋天!\")\n",
        "elif 月份 == \"12\" or 月份 == \"1\" or 月份 == \"2\":\n",
        "  print(月份+\"月是冬天!\")\n",
        "else:\n",
        "  print(\"月份不在範圍內!\")"
      ],
      "metadata": {
        "colab": {
          "base_uri": "https://localhost:8080/"
        },
        "id": "cW9TDgLVYXEk",
        "outputId": "70105230-bef2-48f1-d91f-3d0655dc08b7"
      },
      "execution_count": 46,
      "outputs": [
        {
          "output_type": "stream",
          "name": "stdout",
          "text": [
            "請輸入月份5\n",
            "5月是春天!\n"
          ]
        }
      ]
    },
    {
      "cell_type": "code",
      "source": [
        "收入淨額 = int(input(\"請輸入今年收入淨額:\"))\n",
        "if 收入淨額 >= 2000000:\n",
        "  a = 收入淨額 * 0.3\n",
        "  print(\"付稅金額:\",a,\"元\")\n",
        "elif 收入淨額 >= 1000000:\n",
        "  b = 收入淨額 * 0.21\n",
        "  print(\"付稅金額:\",b,\"元\")\n",
        "elif 收入淨額 >= 600000:\n",
        "  c = 收入淨額 * 0.13\n",
        "  print(\"付稅金額:\",c,\"元\")\n",
        "elif 收入淨額 >= 300000:\n",
        "  d = 收入淨額 * 0.06\n",
        "  print(\"付稅金額:\",d,\"元\")\n",
        "else:\n",
        "  print(\"付稅金額: 0 元\")\n"
      ],
      "metadata": {
        "colab": {
          "base_uri": "https://localhost:8080/"
        },
        "id": "R2smzwk-bJlc",
        "outputId": "8a9c48f4-c85e-4962-95b7-5d515180d8c8"
      },
      "execution_count": 47,
      "outputs": [
        {
          "output_type": "stream",
          "name": "stdout",
          "text": [
            "請輸入今年收入淨額:100000\n",
            "付稅金額: 0 元\n"
          ]
        }
      ]
    },
    {
      "cell_type": "code",
      "source": [
        "收入淨額 = int(input(\"請輸入今年收入淨額:\"))\n",
        "if 收入淨額 >= 2000000:\n",
        "  a = 收入淨額 * 0.3\n",
        "  print(\"付稅金額:\",a,\"元\")\n",
        "elif 收入淨額 >= 1000000:\n",
        "  b = 收入淨額 * 0.21\n",
        "  print(\"付稅金額:\",b,\"元\")\n",
        "elif 收入淨額 >= 600000:\n",
        "  c = 收入淨額 * 0.13\n",
        "  print(\"付稅金額:\",c,\"元\")\n",
        "elif 收入淨額 >= 300000:\n",
        "  d = 收入淨額 * 0.06\n",
        "  print(\"付稅金額:\",d,\"元\")\n",
        "else:\n",
        "  print(\"付稅金額: 0 元\")\n"
      ],
      "metadata": {
        "colab": {
          "base_uri": "https://localhost:8080/"
        },
        "id": "_0AqmfQkd-d-",
        "outputId": "05bf97b4-b2ab-4795-afdb-80053bed9cd3"
      },
      "execution_count": 48,
      "outputs": [
        {
          "output_type": "stream",
          "name": "stdout",
          "text": [
            "請輸入今年收入淨額:2000000\n",
            "付稅金額: 600000.0 元\n"
          ]
        }
      ]
    }
  ]
}