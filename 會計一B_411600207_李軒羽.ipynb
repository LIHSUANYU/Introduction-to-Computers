{
  "nbformat": 4,
  "nbformat_minor": 0,
  "metadata": {
    "colab": {
      "provenance": [],
      "authorship_tag": "ABX9TyP9Gn8a/PofQSUItwmJ9ShX",
      "include_colab_link": true
    },
    "kernelspec": {
      "name": "python3",
      "display_name": "Python 3"
    },
    "language_info": {
      "name": "python"
    }
  },
  "cells": [
    {
      "cell_type": "markdown",
      "metadata": {
        "id": "view-in-github",
        "colab_type": "text"
      },
      "source": [
        "<a href=\"https://colab.research.google.com/github/LIHSUANYU/Introduction-to-Computers/blob/main/%E6%9C%83%E8%A8%88%E4%B8%80B_411600207_%E6%9D%8E%E8%BB%92%E7%BE%BD.ipynb\" target=\"_parent\"><img src=\"https://colab.research.google.com/assets/colab-badge.svg\" alt=\"Open In Colab\"/></a>"
      ]
    },
    {
      "cell_type": "code",
      "execution_count": null,
      "metadata": {
        "colab": {
          "base_uri": "https://localhost:8080/"
        },
        "id": "pnDn7oyiKpvW",
        "outputId": "6e5677d0-0f39-4e9b-bf54-8aed7a1d78b4"
      },
      "outputs": [
        {
          "output_type": "stream",
          "name": "stdout",
          "text": [
            "請輸入本金存款金額:10000\n",
            "6年後存款為:11261.62419264\n"
          ]
        }
      ],
      "source": [
        "本金 = int(input(\"請輸入本金存款金額:\"))\n",
        "存款 = 本金 * 1.02 ** 6\n",
        "print(\"6年後存款為:\"+str(存款))"
      ]
    },
    {
      "cell_type": "code",
      "source": [
        "print(\"Hello World\")"
      ],
      "metadata": {
        "colab": {
          "base_uri": "https://localhost:8080/"
        },
        "id": "gIuMfRRFLc9H",
        "outputId": "8785a02a-c062-4b8b-ed8b-b27436c1d9bf"
      },
      "execution_count": 34,
      "outputs": [
        {
          "output_type": "stream",
          "name": "stdout",
          "text": [
            "Hello World\n"
          ]
        }
      ]
    },
    {
      "cell_type": "code",
      "source": [
        "print(\"請輸入華氏溫度:\",end=\"\") \n",
        "F = float(input())\n",
        "攝氏溫度 = (F - 32) * 5 / 9   \n",
        "print(\"%.1f\" % 攝氏溫度, end=\"\" )\n",
        "print(\"度C\")"
      ],
      "metadata": {
        "colab": {
          "base_uri": "https://localhost:8080/"
        },
        "id": "ClzjVdVuX-2G",
        "outputId": "8c67b6c1-e8b7-44b9-8013-434b100a32d9"
      },
      "execution_count": 37,
      "outputs": [
        {
          "output_type": "stream",
          "name": "stdout",
          "text": [
            "請輸入華氏溫度:100\n",
            "37.8度C\n"
          ]
        }
      ]
    },
    {
      "cell_type": "code",
      "source": [
        "a = int(input('輸入整數'))     \n",
        "s = 0                   \n",
        "for i in range(1,a+1):\n",
        "    s+= i \n",
        "for i in range(1,a+1):\n",
        "    print(i)            \n",
        "print(s) "
      ],
      "metadata": {
        "id": "RLWKj5oqOyFt",
        "colab": {
          "base_uri": "https://localhost:8080/"
        },
        "outputId": "d9147044-51ef-4188-e802-79140c378ab5"
      },
      "execution_count": 38,
      "outputs": [
        {
          "output_type": "stream",
          "name": "stdout",
          "text": [
            "輸入整數5\n",
            "1\n",
            "2\n",
            "3\n",
            "4\n",
            "5\n",
            "15\n"
          ]
        }
      ]
    }
  ]
}